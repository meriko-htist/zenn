{
  "nbformat": 4,
  "nbformat_minor": 0,
  "metadata": {
    "colab": {
      "provenance": [],
      "authorship_tag": "ABX9TyN8OIYOhxxNiE9d/qTibQ0I",
      "include_colab_link": true
    },
    "kernelspec": {
      "name": "python3",
      "display_name": "Python 3"
    },
    "language_info": {
      "name": "python"
    }
  },
  "cells": [
    {
      "cell_type": "markdown",
      "metadata": {
        "id": "view-in-github",
        "colab_type": "text"
      },
      "source": [
        "<a href=\"https://colab.research.google.com/github/meriko-htist/zenn/blob/main/Download_Video.ipynb\" target=\"_parent\"><img src=\"https://colab.research.google.com/assets/colab-badge.svg\" alt=\"Open In Colab\"/></a>"
      ]
    },
    {
      "cell_type": "code",
      "source": [
        "#@title GoogleDriveのマウント\n",
        "from google.colab import drive\n",
        "drive.mount('/content/drive')"
      ],
      "metadata": {
        "colab": {
          "base_uri": "https://localhost:8080/"
        },
        "cellView": "form",
        "id": "SGJymGkyrDgB",
        "outputId": "8e05846e-e019-4605-c621-2c7632078e6a"
      },
      "execution_count": null,
      "outputs": [
        {
          "output_type": "stream",
          "name": "stdout",
          "text": [
            "Mounted at /content/drive\n"
          ]
        }
      ]
    },
    {
      "cell_type": "code",
      "source": [
        "#@title モジュールのダウンロード\n",
        "!pip install yt-dlp\n",
        "!pip install imageio==2.4.1 moviepy==0.2.3.5"
      ],
      "metadata": {
        "cellView": "form",
        "id": "-3bKa7twnZkf"
      },
      "execution_count": null,
      "outputs": []
    },
    {
      "cell_type": "code",
      "source": [
        "#@title モジュールのインポート\n",
        "import os\n",
        "from yt_dlp import YoutubeDL\n",
        "from moviepy.video.fx.resize import resize\n",
        "from moviepy.editor import VideoFileClip"
      ],
      "metadata": {
        "cellView": "form",
        "id": "BChzBk5Zm2jQ"
      },
      "execution_count": null,
      "outputs": []
    },
    {
      "cell_type": "code",
      "source": [
        "#@title フォルダ設定\n",
        "!mkdir -v download_video"
      ],
      "metadata": {
        "cellView": "form",
        "id": "zO6Kb9wmsp6l"
      },
      "execution_count": null,
      "outputs": []
    },
    {
      "cell_type": "code",
      "source": [
        "#@title 動画のダウンロード\n",
        "video_url = 'DL\\u3057\\u305F\\u3044\\u52D5\\u753B\\u306EURL' #@param {type:\"string\"}\n",
        "#@markdown 動画解像度の指定\n",
        "download_resolution = 720 #@param\n",
        "#@markdown 保存する動画の名前(末尾に.mp4を付けてください)\n",
        "video_name = 'test.mp4' #@param {type:\"string\"}\n",
        "!mkdir video/\n",
        "video_path = '/content/download_video/'\n",
        "full_video_path = video_path + video_name\n",
        "# 動画ダウンロード\n",
        "ydl_opts = {'format': f'best[height<={download_resolution}]', 'overwrites': True, 'outtmpl': full_video_path}\n",
        "with YoutubeDL(ydl_opts) as ydl:\n",
        "    ydl.download([video_url])"
      ],
      "metadata": {
        "cellView": "form",
        "id": "j9XPtvWcfO3l"
      },
      "execution_count": null,
      "outputs": []
    }
  ]
}